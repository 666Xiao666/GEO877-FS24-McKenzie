{
 "cells": [
  {
   "cell_type": "markdown",
   "metadata": {},
   "source": [
    "Source: <https://cogo-sys-data.s3.amazonaws.com/index.html> "
   ]
  },
  {
   "cell_type": "markdown",
   "metadata": {},
   "source": [
    "I read in a locally stored csv file as df and display its properties and header to get a data overview."
   ]
  },
  {
   "cell_type": "code",
   "execution_count": 7,
   "metadata": {},
   "outputs": [
    {
     "name": "stdout",
     "output_type": "stream",
     "text": [
      "['202007-cogo-tripdata.csv', '202012-cogo-tripdata.csv', '202107-cogo-tripdata.csv', '202112-cogo-tripdata.csv', '202207-cogo-tripdata.csv', '202212-cogo-tripdata.csv', '202307-cogo-tripdata.csv', '202312-cogo-tripdata.csv']\n",
      "From a total number of  37203 entries, 1399 entries (0.038 %) have been removed.\n"
     ]
    }
   ],
   "source": [
    "import pandas as pd\n",
    "import os, sys\n",
    "\n",
    "#reads in csv sources as df\n",
    "path = \"CoGo_Bikerental_colorado_US/original_data/\"\n",
    "filelist = os.listdir(path)\n",
    "print(filelist)\n",
    "\n",
    "#creates counter for entries before and after cleaning\n",
    "count_original = 0\n",
    "count_clean = 0\n",
    "\n",
    "for f in filelist:\n",
    "    source = path + f\n",
    "    df = pd.read_csv(source)\n",
    "    \n",
    "    #giving a first insight into data and count original entries\n",
    "    #df.info()\n",
    "    #display(df.head())\n",
    "    count_original += len(df)\n",
    "\n",
    "    #converts timestamps from str format into datetime format (required for calculation of trip duration)\n",
    "    df['started_at']= pd.to_datetime(df['started_at'])\n",
    "    df['ended_at']= pd.to_datetime(df['ended_at'])\n",
    "\n",
    "    #calculates trip duration and adds value to a new attribute \"trip duration\" \n",
    "    df[\"trip_duration\"] = (df[\"ended_at\"] - df[\"started_at\"])\n",
    "\n",
    "    #filters out trips < 10 min that end at the same coordinates as they start AND trips > 10 h\n",
    "    maxduration = pd.Timedelta(hours=10)\n",
    "    minduration = pd.Timedelta(minutes=10)\n",
    "\n",
    "    df =df[~((df['trip_duration'] < minduration) & (df['start_lat'] == df['end_lat']) & (df['start_lng'] == df['end_lng']))]\n",
    "    df = df[df['trip_duration'] < maxduration]\n",
    "\n",
    "    #check on filtered out data\n",
    "    #rest = df[((df['trip_duration'] < minduration) & (df['start_lat'] == df['end_lat']) & (df['start_lng'] == df['end_lng']))]\n",
    "    #rest = df[df['trip_duration'] >= maxduration]\n",
    "    #display(rest.head())\n",
    "\n",
    "    #for checking the modifications and counting total entries of cleaned data\n",
    "    #df.info()\n",
    "    #display(df.head())\n",
    "    count_clean += len(df)\n",
    "\n",
    "    #storing cleaned data\n",
    "    output = \"CoGo_Bikerental_colorado_US/cleaned_data/\"\n",
    "    f = \"cleaned\" + f\n",
    "    storage = output + f \n",
    "    df.to_csv(storage)\n",
    "\n",
    "#calculates total sum of removed entries over all datasets\n",
    "removed = count_original - count_clean\n",
    "share_removed = round((removed/count_original), 3)\n",
    "\n",
    "print(f\"From a total number of  {count_original} entries, {removed} entries ({share_removed} %) have been removed.\")"
   ]
  },
  {
   "cell_type": "code",
   "execution_count": null,
   "metadata": {},
   "outputs": [],
   "source": []
  },
  {
   "cell_type": "code",
   "execution_count": null,
   "metadata": {},
   "outputs": [],
   "source": [
    "\n"
   ]
  }
 ],
 "metadata": {
  "kernelspec": {
   "display_name": "Python 3",
   "language": "python",
   "name": "python3"
  },
  "language_info": {
   "codemirror_mode": {
    "name": "ipython",
    "version": 3
   },
   "file_extension": ".py",
   "mimetype": "text/x-python",
   "name": "python",
   "nbconvert_exporter": "python",
   "pygments_lexer": "ipython3",
   "version": "3.11.5"
  }
 },
 "nbformat": 4,
 "nbformat_minor": 2
}
